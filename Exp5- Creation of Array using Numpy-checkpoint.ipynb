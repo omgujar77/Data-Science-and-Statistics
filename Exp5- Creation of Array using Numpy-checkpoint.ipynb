{
 "cells": [
  {
   "cell_type": "markdown",
   "id": "80a30f47-504f-4988-81cd-98b4a3591fbf",
   "metadata": {},
   "source": [
    "# Creation of Array"
   ]
  },
  {
   "cell_type": "code",
   "execution_count": 1,
   "id": "54ca2ab4-8183-4464-945a-abad98d36a17",
   "metadata": {},
   "outputs": [],
   "source": [
    "# Exp: 5"
   ]
  },
  {
   "cell_type": "code",
   "execution_count": null,
   "id": "48f34f32-e49f-4dc9-a5c4-ccb0a237c3d3",
   "metadata": {},
   "outputs": [],
   "source": [
    "# Aim : Creation of Array (1D,2D and Multidimennsional array) using numpy"
   ]
  },
  {
   "cell_type": "code",
   "execution_count": 2,
   "id": "8a53c17f-d028-430d-9fcb-efcccbaf1f9f",
   "metadata": {},
   "outputs": [],
   "source": [
    "# Name : Om Suresh Gujar\n",
    "# Roll.No : 20\n",
    "# sec : B\n",
    "# Subject : ET1"
   ]
  },
  {
   "cell_type": "code",
   "execution_count": 3,
   "id": "ef051272-c4f0-4817-8290-291b867a36ab",
   "metadata": {},
   "outputs": [],
   "source": [
    "import numpy as np"
   ]
  },
  {
   "cell_type": "code",
   "execution_count": 4,
   "id": "127674ab-cf29-44a6-8710-7786ab86b440",
   "metadata": {},
   "outputs": [],
   "source": [
    "arr1=np.array([10,20,30,40,50])"
   ]
  },
  {
   "cell_type": "code",
   "execution_count": 5,
   "id": "07c9b2b3-6b58-4c88-8428-986cbdb5ce0c",
   "metadata": {},
   "outputs": [
    {
     "data": {
      "text/plain": [
       "array([10, 20, 30, 40, 50])"
      ]
     },
     "execution_count": 5,
     "metadata": {},
     "output_type": "execute_result"
    }
   ],
   "source": [
    "arr1"
   ]
  },
  {
   "cell_type": "code",
   "execution_count": 6,
   "id": "0f77036c-8f19-46a3-8043-5f73e095f89b",
   "metadata": {},
   "outputs": [],
   "source": [
    "arr2=np.array([[10,20,30,40,50],[60,70,80,90,100]])"
   ]
  },
  {
   "cell_type": "code",
   "execution_count": 7,
   "id": "48b5c1a9-0666-4be7-812d-e878f13ad205",
   "metadata": {},
   "outputs": [
    {
     "data": {
      "text/plain": [
       "array([[ 10,  20,  30,  40,  50],\n",
       "       [ 60,  70,  80,  90, 100]])"
      ]
     },
     "execution_count": 7,
     "metadata": {},
     "output_type": "execute_result"
    }
   ],
   "source": [
    "arr2"
   ]
  },
  {
   "cell_type": "code",
   "execution_count": 8,
   "id": "6ee9eb2b-aa94-45b5-8970-c80d40f32835",
   "metadata": {},
   "outputs": [],
   "source": [
    "arr3=np.array([[10,20,30,40,50],[60,70,80,90,100],[15,25,35,45,55]])"
   ]
  },
  {
   "cell_type": "code",
   "execution_count": 9,
   "id": "62400620-db89-4cd7-94de-89c191e0c0f8",
   "metadata": {},
   "outputs": [
    {
     "data": {
      "text/plain": [
       "array([[ 10,  20,  30,  40,  50],\n",
       "       [ 60,  70,  80,  90, 100],\n",
       "       [ 15,  25,  35,  45,  55]])"
      ]
     },
     "execution_count": 9,
     "metadata": {},
     "output_type": "execute_result"
    }
   ],
   "source": [
    "arr3"
   ]
  }
 ],
 "metadata": {
  "kernelspec": {
   "display_name": "Python [conda env:base] *",
   "language": "python",
   "name": "conda-base-py"
  },
  "language_info": {
   "codemirror_mode": {
    "name": "ipython",
    "version": 3
   },
   "file_extension": ".py",
   "mimetype": "text/x-python",
   "name": "python",
   "nbconvert_exporter": "python",
   "pygments_lexer": "ipython3",
   "version": "3.13.5"
  }
 },
 "nbformat": 4,
 "nbformat_minor": 5
}
