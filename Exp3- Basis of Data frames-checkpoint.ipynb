{
 "cells": [
  {
   "cell_type": "markdown",
   "id": "c9a29468-cadd-4a1e-8e23-b6e031848d65",
   "metadata": {},
   "source": [
    "# Basics of Data Frame"
   ]
  },
  {
   "cell_type": "code",
   "execution_count": 1,
   "id": "d9af57b8-840b-44eb-9bef-bbe4ffd58d6f",
   "metadata": {},
   "outputs": [],
   "source": [
    "# Exp: 3"
   ]
  },
  {
   "cell_type": "code",
   "execution_count": null,
   "id": "d0176563-a26c-47e6-b182-d0560be20eb4",
   "metadata": {},
   "outputs": [],
   "source": [
    "# Aim : Basics of Data Frame"
   ]
  },
  {
   "cell_type": "code",
   "execution_count": 27,
   "id": "c0f436ad-aead-41c3-a90d-8c22cdced02b",
   "metadata": {},
   "outputs": [],
   "source": [
    "# Name : Om Suresh Gujar\n",
    "# Roll.No : 20\n",
    "# sec : B\n",
    "# Subject : ET1"
   ]
  },
  {
   "cell_type": "code",
   "execution_count": 5,
   "id": "4ee89633-8ff0-408e-834e-b6d1b260d9cb",
   "metadata": {},
   "outputs": [],
   "source": [
    "# Basic of Data Frame"
   ]
  },
  {
   "cell_type": "markdown",
   "id": "f7b25a2d-d413-4964-ade9-38799e87db12",
   "metadata": {},
   "source": [
    "# Creating a series"
   ]
  },
  {
   "cell_type": "code",
   "execution_count": 6,
   "id": "5694866c-9f93-4531-907d-bb553f7f8ad6",
   "metadata": {},
   "outputs": [],
   "source": [
    "# importing the basic library\n",
    "import pandas as pd"
   ]
  },
  {
   "cell_type": "code",
   "execution_count": 7,
   "id": "6cea1883-a6ee-4666-9d7f-48b61a870c56",
   "metadata": {},
   "outputs": [],
   "source": [
    "# Creating Student Name List\n",
    "Name=[\"Sahil\",\"Jay\",\"Rushi\",\"Ajay\",\"Sham\",]"
   ]
  },
  {
   "cell_type": "code",
   "execution_count": 8,
   "id": "159822a1-0153-4524-bd8e-76d5ba248522",
   "metadata": {},
   "outputs": [
    {
     "data": {
      "text/plain": [
       "['Sahil', 'Jay', 'Rushi', 'Ajay', 'Sham']"
      ]
     },
     "execution_count": 8,
     "metadata": {},
     "output_type": "execute_result"
    }
   ],
   "source": [
    "Name"
   ]
  },
  {
   "cell_type": "code",
   "execution_count": 9,
   "id": "3ed54dd1-480f-4d09-87ef-5e63e46aa31d",
   "metadata": {},
   "outputs": [],
   "source": [
    "Rolllist=pd.Series(Name,index=[1,2,3,4,5])"
   ]
  },
  {
   "cell_type": "code",
   "execution_count": 10,
   "id": "300a8899-2fd5-4ff7-8819-e4185cb5c8a3",
   "metadata": {},
   "outputs": [
    {
     "name": "stdout",
     "output_type": "stream",
     "text": [
      "1    Sahil\n",
      "2      Jay\n",
      "3    Rushi\n",
      "4     Ajay\n",
      "5     Sham\n",
      "dtype: object\n"
     ]
    }
   ],
   "source": [
    "print(Rolllist)"
   ]
  },
  {
   "cell_type": "markdown",
   "id": "52bbf767-55c0-4ce6-b1fc-edd6517feab6",
   "metadata": {},
   "source": [
    "# Creating a Data Frame"
   ]
  },
  {
   "cell_type": "code",
   "execution_count": 11,
   "id": "a4f5224f-f878-432a-aff8-6fb060391bd8",
   "metadata": {},
   "outputs": [],
   "source": [
    "df=pd.DataFrame([[10,11,12,13],[11,13,17,25],[15,18,12,19],[20,27,26,13]],\n",
    "columns=[\"CD\",\"DBMS\",\"DSS\",\"CAO\"])"
   ]
  },
  {
   "cell_type": "code",
   "execution_count": 12,
   "id": "e97969e2-7023-4279-afc3-38910cf17953",
   "metadata": {},
   "outputs": [
    {
     "data": {
      "text/html": [
       "<div>\n",
       "<style scoped>\n",
       "    .dataframe tbody tr th:only-of-type {\n",
       "        vertical-align: middle;\n",
       "    }\n",
       "\n",
       "    .dataframe tbody tr th {\n",
       "        vertical-align: top;\n",
       "    }\n",
       "\n",
       "    .dataframe thead th {\n",
       "        text-align: right;\n",
       "    }\n",
       "</style>\n",
       "<table border=\"1\" class=\"dataframe\">\n",
       "  <thead>\n",
       "    <tr style=\"text-align: right;\">\n",
       "      <th></th>\n",
       "      <th>CD</th>\n",
       "      <th>DBMS</th>\n",
       "      <th>DSS</th>\n",
       "      <th>CAO</th>\n",
       "    </tr>\n",
       "  </thead>\n",
       "  <tbody>\n",
       "    <tr>\n",
       "      <th>0</th>\n",
       "      <td>10</td>\n",
       "      <td>11</td>\n",
       "      <td>12</td>\n",
       "      <td>13</td>\n",
       "    </tr>\n",
       "    <tr>\n",
       "      <th>1</th>\n",
       "      <td>11</td>\n",
       "      <td>13</td>\n",
       "      <td>17</td>\n",
       "      <td>25</td>\n",
       "    </tr>\n",
       "    <tr>\n",
       "      <th>2</th>\n",
       "      <td>15</td>\n",
       "      <td>18</td>\n",
       "      <td>12</td>\n",
       "      <td>19</td>\n",
       "    </tr>\n",
       "    <tr>\n",
       "      <th>3</th>\n",
       "      <td>20</td>\n",
       "      <td>27</td>\n",
       "      <td>26</td>\n",
       "      <td>13</td>\n",
       "    </tr>\n",
       "  </tbody>\n",
       "</table>\n",
       "</div>"
      ],
      "text/plain": [
       "   CD  DBMS  DSS  CAO\n",
       "0  10    11   12   13\n",
       "1  11    13   17   25\n",
       "2  15    18   12   19\n",
       "3  20    27   26   13"
      ]
     },
     "execution_count": 12,
     "metadata": {},
     "output_type": "execute_result"
    }
   ],
   "source": [
    "df"
   ]
  },
  {
   "cell_type": "code",
   "execution_count": 13,
   "id": "ca517ee4-9fbb-4770-a527-98ccd95b4b58",
   "metadata": {},
   "outputs": [
    {
     "data": {
      "text/plain": [
       "(4, 4)"
      ]
     },
     "execution_count": 13,
     "metadata": {},
     "output_type": "execute_result"
    }
   ],
   "source": [
    "df.shape"
   ]
  },
  {
   "cell_type": "code",
   "execution_count": 14,
   "id": "852d32df-315b-44fd-822a-01f8f438c04f",
   "metadata": {},
   "outputs": [
    {
     "data": {
      "text/plain": [
       "16"
      ]
     },
     "execution_count": 14,
     "metadata": {},
     "output_type": "execute_result"
    }
   ],
   "source": [
    "df.size"
   ]
  },
  {
   "cell_type": "code",
   "execution_count": 15,
   "id": "0cbe6d77-12e4-49e5-ad58-9080f3e12ce7",
   "metadata": {},
   "outputs": [
    {
     "data": {
      "text/plain": [
       "2"
      ]
     },
     "execution_count": 15,
     "metadata": {},
     "output_type": "execute_result"
    }
   ],
   "source": [
    "df.ndim"
   ]
  },
  {
   "cell_type": "code",
   "execution_count": 16,
   "id": "400dbaa3-371f-4a14-8db5-f149254972a0",
   "metadata": {},
   "outputs": [],
   "source": [
    "df2=pd.DataFrame([[9,12,10,11]],\n",
    "columns=[\"CD\",\"DBMS\",\"DSS\",\"CAO\"])"
   ]
  },
  {
   "cell_type": "code",
   "execution_count": 17,
   "id": "9dd9c69c-157a-4afb-96d0-c0fae187c7c3",
   "metadata": {},
   "outputs": [],
   "source": [
    "df3 = pd.concat([df, df2], ignore_index=True)"
   ]
  },
  {
   "cell_type": "code",
   "execution_count": 18,
   "id": "5c50f576-d1b8-4947-ab36-ae5ba32b4757",
   "metadata": {},
   "outputs": [
    {
     "data": {
      "text/html": [
       "<div>\n",
       "<style scoped>\n",
       "    .dataframe tbody tr th:only-of-type {\n",
       "        vertical-align: middle;\n",
       "    }\n",
       "\n",
       "    .dataframe tbody tr th {\n",
       "        vertical-align: top;\n",
       "    }\n",
       "\n",
       "    .dataframe thead th {\n",
       "        text-align: right;\n",
       "    }\n",
       "</style>\n",
       "<table border=\"1\" class=\"dataframe\">\n",
       "  <thead>\n",
       "    <tr style=\"text-align: right;\">\n",
       "      <th></th>\n",
       "      <th>CD</th>\n",
       "      <th>DBMS</th>\n",
       "      <th>DSS</th>\n",
       "      <th>CAO</th>\n",
       "    </tr>\n",
       "  </thead>\n",
       "  <tbody>\n",
       "    <tr>\n",
       "      <th>0</th>\n",
       "      <td>10</td>\n",
       "      <td>11</td>\n",
       "      <td>12</td>\n",
       "      <td>13</td>\n",
       "    </tr>\n",
       "    <tr>\n",
       "      <th>1</th>\n",
       "      <td>11</td>\n",
       "      <td>13</td>\n",
       "      <td>17</td>\n",
       "      <td>25</td>\n",
       "    </tr>\n",
       "    <tr>\n",
       "      <th>2</th>\n",
       "      <td>15</td>\n",
       "      <td>18</td>\n",
       "      <td>12</td>\n",
       "      <td>19</td>\n",
       "    </tr>\n",
       "    <tr>\n",
       "      <th>3</th>\n",
       "      <td>20</td>\n",
       "      <td>27</td>\n",
       "      <td>26</td>\n",
       "      <td>13</td>\n",
       "    </tr>\n",
       "    <tr>\n",
       "      <th>4</th>\n",
       "      <td>9</td>\n",
       "      <td>12</td>\n",
       "      <td>10</td>\n",
       "      <td>11</td>\n",
       "    </tr>\n",
       "  </tbody>\n",
       "</table>\n",
       "</div>"
      ],
      "text/plain": [
       "   CD  DBMS  DSS  CAO\n",
       "0  10    11   12   13\n",
       "1  11    13   17   25\n",
       "2  15    18   12   19\n",
       "3  20    27   26   13\n",
       "4   9    12   10   11"
      ]
     },
     "execution_count": 18,
     "metadata": {},
     "output_type": "execute_result"
    }
   ],
   "source": [
    "df3"
   ]
  },
  {
   "cell_type": "markdown",
   "id": "59bd1cdb-ad1b-431f-854f-60ff5b016d11",
   "metadata": {},
   "source": [
    "# Adding Records (Columns) From Data Frame"
   ]
  },
  {
   "cell_type": "code",
   "execution_count": 19,
   "id": "10527096-3a0f-4b9a-9a01-f2f28b49a0fc",
   "metadata": {},
   "outputs": [],
   "source": [
    "df3[\"DM\"]=[12,12,13,14,15]"
   ]
  },
  {
   "cell_type": "code",
   "execution_count": 20,
   "id": "d0d94054-cb5b-4663-9e5a-bbca5c49d7cf",
   "metadata": {},
   "outputs": [
    {
     "data": {
      "text/html": [
       "<div>\n",
       "<style scoped>\n",
       "    .dataframe tbody tr th:only-of-type {\n",
       "        vertical-align: middle;\n",
       "    }\n",
       "\n",
       "    .dataframe tbody tr th {\n",
       "        vertical-align: top;\n",
       "    }\n",
       "\n",
       "    .dataframe thead th {\n",
       "        text-align: right;\n",
       "    }\n",
       "</style>\n",
       "<table border=\"1\" class=\"dataframe\">\n",
       "  <thead>\n",
       "    <tr style=\"text-align: right;\">\n",
       "      <th></th>\n",
       "      <th>CD</th>\n",
       "      <th>DBMS</th>\n",
       "      <th>DSS</th>\n",
       "      <th>CAO</th>\n",
       "      <th>DM</th>\n",
       "    </tr>\n",
       "  </thead>\n",
       "  <tbody>\n",
       "    <tr>\n",
       "      <th>0</th>\n",
       "      <td>10</td>\n",
       "      <td>11</td>\n",
       "      <td>12</td>\n",
       "      <td>13</td>\n",
       "      <td>12</td>\n",
       "    </tr>\n",
       "    <tr>\n",
       "      <th>1</th>\n",
       "      <td>11</td>\n",
       "      <td>13</td>\n",
       "      <td>17</td>\n",
       "      <td>25</td>\n",
       "      <td>12</td>\n",
       "    </tr>\n",
       "    <tr>\n",
       "      <th>2</th>\n",
       "      <td>15</td>\n",
       "      <td>18</td>\n",
       "      <td>12</td>\n",
       "      <td>19</td>\n",
       "      <td>13</td>\n",
       "    </tr>\n",
       "    <tr>\n",
       "      <th>3</th>\n",
       "      <td>20</td>\n",
       "      <td>27</td>\n",
       "      <td>26</td>\n",
       "      <td>13</td>\n",
       "      <td>14</td>\n",
       "    </tr>\n",
       "    <tr>\n",
       "      <th>4</th>\n",
       "      <td>9</td>\n",
       "      <td>12</td>\n",
       "      <td>10</td>\n",
       "      <td>11</td>\n",
       "      <td>15</td>\n",
       "    </tr>\n",
       "  </tbody>\n",
       "</table>\n",
       "</div>"
      ],
      "text/plain": [
       "   CD  DBMS  DSS  CAO  DM\n",
       "0  10    11   12   13  12\n",
       "1  11    13   17   25  12\n",
       "2  15    18   12   19  13\n",
       "3  20    27   26   13  14\n",
       "4   9    12   10   11  15"
      ]
     },
     "execution_count": 20,
     "metadata": {},
     "output_type": "execute_result"
    }
   ],
   "source": [
    "df3"
   ]
  },
  {
   "cell_type": "markdown",
   "id": "f09517fc-7db4-4e48-aa7f-41cda3066d93",
   "metadata": {},
   "source": [
    "# Deleting Record (Row) From Data Frame"
   ]
  },
  {
   "cell_type": "code",
   "execution_count": 21,
   "id": "2ecf636b-d116-480a-a292-3baf0d2e3974",
   "metadata": {},
   "outputs": [],
   "source": [
    "df4=df3.drop(index=[1])"
   ]
  },
  {
   "cell_type": "code",
   "execution_count": 22,
   "id": "69675972-49a6-4243-a5cf-43158d8385e5",
   "metadata": {},
   "outputs": [
    {
     "data": {
      "text/html": [
       "<div>\n",
       "<style scoped>\n",
       "    .dataframe tbody tr th:only-of-type {\n",
       "        vertical-align: middle;\n",
       "    }\n",
       "\n",
       "    .dataframe tbody tr th {\n",
       "        vertical-align: top;\n",
       "    }\n",
       "\n",
       "    .dataframe thead th {\n",
       "        text-align: right;\n",
       "    }\n",
       "</style>\n",
       "<table border=\"1\" class=\"dataframe\">\n",
       "  <thead>\n",
       "    <tr style=\"text-align: right;\">\n",
       "      <th></th>\n",
       "      <th>CD</th>\n",
       "      <th>DBMS</th>\n",
       "      <th>DSS</th>\n",
       "      <th>CAO</th>\n",
       "      <th>DM</th>\n",
       "    </tr>\n",
       "  </thead>\n",
       "  <tbody>\n",
       "    <tr>\n",
       "      <th>0</th>\n",
       "      <td>10</td>\n",
       "      <td>11</td>\n",
       "      <td>12</td>\n",
       "      <td>13</td>\n",
       "      <td>12</td>\n",
       "    </tr>\n",
       "    <tr>\n",
       "      <th>2</th>\n",
       "      <td>15</td>\n",
       "      <td>18</td>\n",
       "      <td>12</td>\n",
       "      <td>19</td>\n",
       "      <td>13</td>\n",
       "    </tr>\n",
       "    <tr>\n",
       "      <th>3</th>\n",
       "      <td>20</td>\n",
       "      <td>27</td>\n",
       "      <td>26</td>\n",
       "      <td>13</td>\n",
       "      <td>14</td>\n",
       "    </tr>\n",
       "    <tr>\n",
       "      <th>4</th>\n",
       "      <td>9</td>\n",
       "      <td>12</td>\n",
       "      <td>10</td>\n",
       "      <td>11</td>\n",
       "      <td>15</td>\n",
       "    </tr>\n",
       "  </tbody>\n",
       "</table>\n",
       "</div>"
      ],
      "text/plain": [
       "   CD  DBMS  DSS  CAO  DM\n",
       "0  10    11   12   13  12\n",
       "2  15    18   12   19  13\n",
       "3  20    27   26   13  14\n",
       "4   9    12   10   11  15"
      ]
     },
     "execution_count": 22,
     "metadata": {},
     "output_type": "execute_result"
    }
   ],
   "source": [
    "df4"
   ]
  },
  {
   "cell_type": "code",
   "execution_count": 23,
   "id": "34b19844-f9b9-445c-9abb-14ef320521cc",
   "metadata": {},
   "outputs": [
    {
     "name": "stdout",
     "output_type": "stream",
     "text": [
      "Mean of  DSS: 15.0\n"
     ]
    }
   ],
   "source": [
    "print(\"Mean of  DSS:\",df4[\"DSS\"].mean())"
   ]
  },
  {
   "cell_type": "code",
   "execution_count": 24,
   "id": "39fd971f-930f-496a-b64b-49c824ae254c",
   "metadata": {},
   "outputs": [
    {
     "data": {
      "text/html": [
       "<div>\n",
       "<style scoped>\n",
       "    .dataframe tbody tr th:only-of-type {\n",
       "        vertical-align: middle;\n",
       "    }\n",
       "\n",
       "    .dataframe tbody tr th {\n",
       "        vertical-align: top;\n",
       "    }\n",
       "\n",
       "    .dataframe thead th {\n",
       "        text-align: right;\n",
       "    }\n",
       "</style>\n",
       "<table border=\"1\" class=\"dataframe\">\n",
       "  <thead>\n",
       "    <tr style=\"text-align: right;\">\n",
       "      <th></th>\n",
       "      <th>CD</th>\n",
       "      <th>DBMS</th>\n",
       "      <th>DSS</th>\n",
       "      <th>CAO</th>\n",
       "      <th>DM</th>\n",
       "    </tr>\n",
       "  </thead>\n",
       "  <tbody>\n",
       "    <tr>\n",
       "      <th>0</th>\n",
       "      <td>10</td>\n",
       "      <td>11</td>\n",
       "      <td>12</td>\n",
       "      <td>13</td>\n",
       "      <td>12</td>\n",
       "    </tr>\n",
       "    <tr>\n",
       "      <th>2</th>\n",
       "      <td>15</td>\n",
       "      <td>18</td>\n",
       "      <td>12</td>\n",
       "      <td>19</td>\n",
       "      <td>13</td>\n",
       "    </tr>\n",
       "    <tr>\n",
       "      <th>3</th>\n",
       "      <td>20</td>\n",
       "      <td>27</td>\n",
       "      <td>26</td>\n",
       "      <td>13</td>\n",
       "      <td>14</td>\n",
       "    </tr>\n",
       "    <tr>\n",
       "      <th>4</th>\n",
       "      <td>9</td>\n",
       "      <td>12</td>\n",
       "      <td>10</td>\n",
       "      <td>11</td>\n",
       "      <td>15</td>\n",
       "    </tr>\n",
       "  </tbody>\n",
       "</table>\n",
       "</div>"
      ],
      "text/plain": [
       "   CD  DBMS  DSS  CAO  DM\n",
       "0  10    11   12   13  12\n",
       "2  15    18   12   19  13\n",
       "3  20    27   26   13  14\n",
       "4   9    12   10   11  15"
      ]
     },
     "execution_count": 24,
     "metadata": {},
     "output_type": "execute_result"
    }
   ],
   "source": [
    "df4"
   ]
  },
  {
   "cell_type": "code",
   "execution_count": 25,
   "id": "fff5eabd-9d25-4b20-bb62-8500e21406b3",
   "metadata": {},
   "outputs": [
    {
     "name": "stdout",
     "output_type": "stream",
     "text": [
      "Mean of  DSS: 12.0\n"
     ]
    }
   ],
   "source": [
    "print(\"Mean of  DSS:\",df4[\"DSS\"].median())"
   ]
  },
  {
   "cell_type": "code",
   "execution_count": 26,
   "id": "0c6ca54b-ad1b-4b97-8c6d-debf26706f89",
   "metadata": {},
   "outputs": [
    {
     "name": "stdout",
     "output_type": "stream",
     "text": [
      "Mean of  DSS: 0    12\n",
      "Name: DSS, dtype: int64\n"
     ]
    }
   ],
   "source": [
    "print(\"Mean of  DSS:\",df4[\"DSS\"].mode())"
   ]
  }
 ],
 "metadata": {
  "kernelspec": {
   "display_name": "Python [conda env:base] *",
   "language": "python",
   "name": "conda-base-py"
  },
  "language_info": {
   "codemirror_mode": {
    "name": "ipython",
    "version": 3
   },
   "file_extension": ".py",
   "mimetype": "text/x-python",
   "name": "python",
   "nbconvert_exporter": "python",
   "pygments_lexer": "ipython3",
   "version": "3.13.5"
  }
 },
 "nbformat": 4,
 "nbformat_minor": 5
}
