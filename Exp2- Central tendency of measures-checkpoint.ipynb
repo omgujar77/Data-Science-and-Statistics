{
 "cells": [
  {
   "cell_type": "markdown",
   "id": "8f9d6952-a3f3-44b8-ba8e-7549739452a3",
   "metadata": {},
   "source": [
    "# Central Tendancy of measures (Mean, Median, Mode)"
   ]
  },
  {
   "cell_type": "code",
   "execution_count": 1,
   "id": "cca63791-b2ae-4f4d-9632-35ddc11c6bd0",
   "metadata": {},
   "outputs": [],
   "source": [
    "# Exp-2"
   ]
  },
  {
   "cell_type": "code",
   "execution_count": 2,
   "id": "bd917efe-ab00-4ba0-84cb-242f81270087",
   "metadata": {},
   "outputs": [],
   "source": [
    "# Aim : To find central tendancy of measure (Mean , Mediun , Mode)"
   ]
  },
  {
   "cell_type": "code",
   "execution_count": 1,
   "id": "c9381197-a539-4977-962a-006c87000b4c",
   "metadata": {},
   "outputs": [],
   "source": [
    "# Name : Om Suresh Gujar\n",
    "# Roll.No : 20\n",
    "# sec : B\n",
    "# Subject : ET1\n",
    "# Date :31/07/2025"
   ]
  },
  {
   "cell_type": "code",
   "execution_count": 2,
   "id": "7f02d91c-8ee0-4908-a7c9-a6e71e8d19f4",
   "metadata": {},
   "outputs": [],
   "source": [
    "age =[20,21,20,21,22,20,21,20,21,21,22,20,22,21,20,21,22,21]"
   ]
  },
  {
   "cell_type": "code",
   "execution_count": 3,
   "id": "1d96d071-6f9f-467d-9867-058d818a4525",
   "metadata": {},
   "outputs": [
    {
     "data": {
      "text/plain": [
       "[20, 21, 20, 21, 22, 20, 21, 20, 21, 21, 22, 20, 22, 21, 20, 21, 22, 21]"
      ]
     },
     "execution_count": 3,
     "metadata": {},
     "output_type": "execute_result"
    }
   ],
   "source": [
    "age"
   ]
  },
  {
   "cell_type": "code",
   "execution_count": 4,
   "id": "e1f5a6e9-727d-461a-82a3-79eb3b5b9ab0",
   "metadata": {},
   "outputs": [],
   "source": [
    "import statistics"
   ]
  },
  {
   "cell_type": "code",
   "execution_count": 5,
   "id": "dfa07136-d7a3-4b4e-b7ac-190859e6361d",
   "metadata": {},
   "outputs": [],
   "source": [
    "Mean=statistics.mean(age)"
   ]
  },
  {
   "cell_type": "code",
   "execution_count": 6,
   "id": "0ce7dbce-5d49-4e39-8f45-cf705a17fdd3",
   "metadata": {},
   "outputs": [
    {
     "data": {
      "text/plain": [
       "20.88888888888889"
      ]
     },
     "execution_count": 6,
     "metadata": {},
     "output_type": "execute_result"
    }
   ],
   "source": [
    "Mean"
   ]
  },
  {
   "cell_type": "code",
   "execution_count": 7,
   "id": "1fb98fa7-7b31-4ad8-9b70-1345528862ac",
   "metadata": {},
   "outputs": [],
   "source": [
    "Median=statistics.median(age)"
   ]
  },
  {
   "cell_type": "code",
   "execution_count": 8,
   "id": "bf6a4353-d384-4215-bc92-3c3a8fc1c8ba",
   "metadata": {},
   "outputs": [
    {
     "data": {
      "text/plain": [
       "21.0"
      ]
     },
     "execution_count": 8,
     "metadata": {},
     "output_type": "execute_result"
    }
   ],
   "source": [
    "Median"
   ]
  },
  {
   "cell_type": "code",
   "execution_count": 9,
   "id": "3bd38cf1-1f4f-4150-b442-209089a7e5cb",
   "metadata": {},
   "outputs": [],
   "source": [
    "Mode=statistics.mode(age)"
   ]
  },
  {
   "cell_type": "code",
   "execution_count": 10,
   "id": "6b72b39d-5011-4418-b36e-f50731a2b385",
   "metadata": {},
   "outputs": [
    {
     "data": {
      "text/plain": [
       "21"
      ]
     },
     "execution_count": 10,
     "metadata": {},
     "output_type": "execute_result"
    }
   ],
   "source": [
    "Mode"
   ]
  },
  {
   "cell_type": "code",
   "execution_count": 11,
   "id": "07c998da-e6ce-4a0d-80c0-a4eb7fb92104",
   "metadata": {},
   "outputs": [],
   "source": [
    "import numpy as np\n",
    "x=np.array([1,2,3,4,5,6,7,2,6,2,1,4])"
   ]
  },
  {
   "cell_type": "code",
   "execution_count": 12,
   "id": "4452e9b1-06b4-46a8-b818-4cfe407f99c3",
   "metadata": {},
   "outputs": [
    {
     "data": {
      "text/plain": [
       "array([1, 2, 3, 4, 5, 6, 7, 2, 6, 2, 1, 4])"
      ]
     },
     "execution_count": 12,
     "metadata": {},
     "output_type": "execute_result"
    }
   ],
   "source": [
    "x"
   ]
  },
  {
   "cell_type": "code",
   "execution_count": 13,
   "id": "dbf8eb19-b226-4f9c-9aa8-8c6911f74715",
   "metadata": {},
   "outputs": [
    {
     "name": "stdout",
     "output_type": "stream",
     "text": [
      "3.5833333333333335\n"
     ]
    }
   ],
   "source": [
    "print(np.mean(x))"
   ]
  },
  {
   "cell_type": "code",
   "execution_count": 14,
   "id": "98a5d1dc-ff1f-478b-beba-c0e91b556b3d",
   "metadata": {},
   "outputs": [
    {
     "name": "stdout",
     "output_type": "stream",
     "text": [
      "3.5\n"
     ]
    }
   ],
   "source": [
    "print(np.median(x))"
   ]
  },
  {
   "cell_type": "code",
   "execution_count": 15,
   "id": "30689d18-281e-49a8-8bfc-2a5fd8ae3965",
   "metadata": {},
   "outputs": [],
   "source": [
    "from scipy import stats"
   ]
  },
  {
   "cell_type": "code",
   "execution_count": 16,
   "id": "b749aa54-6b2a-4987-9146-bd2f397a4010",
   "metadata": {},
   "outputs": [
    {
     "name": "stdout",
     "output_type": "stream",
     "text": [
      "ModeResult(mode=np.int64(2), count=np.int64(3))\n"
     ]
    }
   ],
   "source": [
    "print(stats.mode(x))"
   ]
  },
  {
   "cell_type": "code",
   "execution_count": 17,
   "id": "e3c9fde6-3bfc-4f0a-8721-9bde0c5e339f",
   "metadata": {},
   "outputs": [
    {
     "name": "stdout",
     "output_type": "stream",
     "text": [
      "2.0652243256245835\n"
     ]
    }
   ],
   "source": [
    "print(stats.tstd(x))"
   ]
  },
  {
   "cell_type": "code",
   "execution_count": 18,
   "id": "c88b5dd9-f4cc-4865-aaa4-de52a853f4e7",
   "metadata": {},
   "outputs": [
    {
     "name": "stdout",
     "output_type": "stream",
     "text": [
      "3.9097222222222228\n"
     ]
    }
   ],
   "source": [
    "print(np.var(x))"
   ]
  },
  {
   "cell_type": "code",
   "execution_count": 19,
   "id": "f68dbf94-4bcc-4e58-9d8a-29165e9b1ad7",
   "metadata": {},
   "outputs": [],
   "source": [
    "arr = np.array([[1, 2, 3],\n",
    "                [4, 5, 6],\n",
    "                [7, 8, 9]])"
   ]
  },
  {
   "cell_type": "code",
   "execution_count": 20,
   "id": "7af0512a-3930-4ebf-8eec-5d52b3875aae",
   "metadata": {},
   "outputs": [
    {
     "data": {
      "text/plain": [
       "array([[1, 2, 3],\n",
       "       [4, 5, 6],\n",
       "       [7, 8, 9]])"
      ]
     },
     "execution_count": 20,
     "metadata": {},
     "output_type": "execute_result"
    }
   ],
   "source": [
    "arr"
   ]
  }
 ],
 "metadata": {
  "kernelspec": {
   "display_name": "Python [conda env:base] *",
   "language": "python",
   "name": "conda-base-py"
  },
  "language_info": {
   "codemirror_mode": {
    "name": "ipython",
    "version": 3
   },
   "file_extension": ".py",
   "mimetype": "text/x-python",
   "name": "python",
   "nbconvert_exporter": "python",
   "pygments_lexer": "ipython3",
   "version": "3.13.5"
  }
 },
 "nbformat": 4,
 "nbformat_minor": 5
}
